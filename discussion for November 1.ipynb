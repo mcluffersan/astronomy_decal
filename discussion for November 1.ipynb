{
 "cells": [
  {
   "cell_type": "code",
   "execution_count": 11,
   "id": "05bd04d3",
   "metadata": {},
   "outputs": [],
   "source": [
    "from astropy.io import fits\n",
    "import numpy as np\n",
    "import matplotlib.pyplot as plt\n",
    "from astropy.table import QTable\n",
    "import astropy.units as u"
   ]
  },
  {
   "cell_type": "code",
   "execution_count": 12,
   "id": "5f2cb23b",
   "metadata": {},
   "outputs": [
    {
     "data": {
      "text/plain": [
       "FITS_rec([(  500.    , 4.3531495e-10), (  500.0834, 4.3527074e-10),\n",
       "          (  500.1668, 4.3521931e-10), ..., (59995.562 , 5.2378674e-10),\n",
       "          (60005.562 , 5.2362126e-10), (60015.574 , 5.2347715e-10)],\n",
       "         dtype=(numpy.record, [('Wavelength (Angstroms)', '>f4'), ('Flux', '>f4')]))"
      ]
     },
     "execution_count": 12,
     "metadata": {},
     "output_type": "execute_result"
    }
   ],
   "source": [
    "obj = fits.open('fits_file_disc.fits')\n",
    "\n",
    "\n",
    "data = obj[1].data\n",
    "\n",
    "data\n",
    "\n",
    "data\n",
    "# obj.close()\n",
    "#obj"
   ]
  },
  {
   "cell_type": "code",
   "execution_count": 13,
   "id": "4581c1ed",
   "metadata": {},
   "outputs": [
    {
     "name": "stdout",
     "output_type": "stream",
     "text": [
      "Wavelength (Angstroms)      Flux    \n",
      "---------------------- -------------\n",
      "                 500.0 4.3531495e-10\n",
      "              500.0834 4.3527074e-10\n",
      "              500.1668  4.352193e-10\n",
      "             500.25024 4.3516749e-10\n",
      "             500.33368 4.3511983e-10\n",
      "              500.4171 4.3507212e-10\n",
      "             500.50058  4.350249e-10\n",
      "                   ...           ...\n",
      "              59955.55  5.244465e-10\n",
      "              59965.55 5.2427457e-10\n",
      "              59975.55  5.241046e-10\n",
      "              59985.55 5.2395444e-10\n",
      "             59995.562 5.2378674e-10\n",
      "             60005.562 5.2362126e-10\n",
      "             60015.574 5.2347715e-10\n",
      "Length = 31023 rows\n"
     ]
    }
   ],
   "source": [
    "with fits.open('fits_file_disc.fits') as f:\n",
    "    data =  QTable(f[1].data)\n",
    "\n",
    "print(data)"
   ]
  },
  {
   "cell_type": "code",
   "execution_count": 14,
   "id": "99bc73f1",
   "metadata": {},
   "outputs": [
    {
     "data": {
      "text/html": [
       "<div><i>QTable length=3</i>\n",
       "<table id=\"table5210877520\" class=\"table-striped table-bordered table-condensed\">\n",
       "<thead><tr><th>col0</th><th>col1</th></tr></thead>\n",
       "<thead><tr><th></th><th>m / s</th></tr></thead>\n",
       "<thead><tr><th>int32</th><th>float64</th></tr></thead>\n",
       "<tr><td>1</td><td>10.0</td></tr>\n",
       "<tr><td>4</td><td>20.0</td></tr>\n",
       "<tr><td>5</td><td>30.0</td></tr>\n",
       "</table></div>"
      ],
      "text/plain": [
       "<QTable length=3>\n",
       " col0   col1 \n",
       "       m / s \n",
       "int32 float64\n",
       "----- -------\n",
       "    1    10.0\n",
       "    4    20.0\n",
       "    5    30.0"
      ]
     },
     "execution_count": 14,
     "metadata": {},
     "output_type": "execute_result"
    }
   ],
   "source": [
    "a = np.array([1, 4, 5], dtype=np.int32)\n",
    "d = [10, 20, 30] * u.m / u.s\n",
    "\n",
    "t = QTable([a, d])\n",
    "\n",
    "t"
   ]
  },
  {
   "cell_type": "code",
   "execution_count": 15,
   "id": "e02bbfde",
   "metadata": {},
   "outputs": [
    {
     "data": {
      "text/plain": [
       "<QTable length=3>\n",
       "name  dtype   unit  class  \n",
       "---- ------- ----- --------\n",
       "col0   int32         Column\n",
       "col1 float64 m / s Quantity"
      ]
     },
     "execution_count": 15,
     "metadata": {},
     "output_type": "execute_result"
    }
   ],
   "source": [
    "t.info\n"
   ]
  },
  {
   "cell_type": "code",
   "execution_count": 17,
   "id": "a325bb8b",
   "metadata": {},
   "outputs": [
    {
     "data": {
      "text/plain": [
       "<function matplotlib.pyplot.show(close=None, block=None)>"
      ]
     },
     "execution_count": 17,
     "metadata": {},
     "output_type": "execute_result"
    },
    {
     "data": {
      "image/png": "[encoded data removed]",
      "text/plain": [
       "<Figure size 640x480 with 1 Axes>"
      ]
     },
     "metadata": {},
     "output_type": "display_data"
    }
   ],
   "source": [
    "from astropy.table import Table\n",
    "\n",
    "table = Table.read('fits_file_disc.fits')\n",
    "\n",
    "wavelength = table['Wavelength (Angstroms)']\n",
    "flux = table['Flux']\n",
    "\n",
    "plt.figure()\n",
    "plt.plot(wavelength, flux)\n",
    "plt.show"
   ]
  },
  {
   "cell_type": "code",
   "execution_count": null,
   "id": "1417d4f2",
   "metadata": {},
   "outputs": [],
   "source": []
  }
 ],
 "metadata": {
  "kernelspec": {
   "display_name": "Python 3 (ipykernel)",
   "language": "python",
   "name": "python3"
  },
  "language_info": {
   "codemirror_mode": {
    "name": "ipython",
    "version": 3
   },
   "file_extension": ".py",
   "mimetype": "text/x-python",
   "name": "python",
   "nbconvert_exporter": "python",
   "pygments_lexer": "ipython3",
   "version": "3.11.4"
  }
 },
 "nbformat": 4,
 "nbformat_minor": 5
}
