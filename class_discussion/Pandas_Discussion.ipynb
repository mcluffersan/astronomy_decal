{
 "cells": [
  {
   "cell_type": "code",
   "execution_count": 4,
   "id": "0f3e40d7",
   "metadata": {
    "id": "0f3e40d7"
   },
   "outputs": [],
   "source": [
    "import numpy as np\n",
    "import pandas as pd\n",
    "import matplotlib as plt"
   ]
  },
  {
   "cell_type": "markdown",
   "id": "f45530e7",
   "metadata": {
    "id": "f45530e7"
   },
   "source": [
    "## Question 1: Slicing and Splicing (and Slaying)"
   ]
  },
  {
   "cell_type": "markdown",
   "id": "191877a8",
   "metadata": {
    "id": "191877a8"
   },
   "source": [
    "In this question, we're going to practice how we index and select specific parts of dataframes in Pandas. We'll be using the dataframe created below- food_info."
   ]
  },
  {
   "cell_type": "code",
   "execution_count": 5,
   "id": "5219dd54",
   "metadata": {
    "id": "5219dd54"
   },
   "outputs": [
    {
     "data": {
      "text/html": [
       "<div>\n",
       "<style scoped>\n",
       "    .dataframe tbody tr th:only-of-type {\n",
       "        vertical-align: middle;\n",
       "    }\n",
       "\n",
       "    .dataframe tbody tr th {\n",
       "        vertical-align: top;\n",
       "    }\n",
       "\n",
       "    .dataframe thead th {\n",
       "        text-align: right;\n",
       "    }\n",
       "</style>\n",
       "<table border=\"1\" class=\"dataframe\">\n",
       "  <thead>\n",
       "    <tr style=\"text-align: right;\">\n",
       "      <th></th>\n",
       "      <th>food</th>\n",
       "      <th>restaurant</th>\n",
       "      <th>price</th>\n",
       "    </tr>\n",
       "  </thead>\n",
       "  <tbody>\n",
       "    <tr>\n",
       "      <th>0</th>\n",
       "      <td>Pad Thai</td>\n",
       "      <td>Imm Thai</td>\n",
       "      <td>16.0</td>\n",
       "    </tr>\n",
       "    <tr>\n",
       "      <th>1</th>\n",
       "      <td>Pizza</td>\n",
       "      <td>Cheeseboard</td>\n",
       "      <td>24.5</td>\n",
       "    </tr>\n",
       "    <tr>\n",
       "      <th>2</th>\n",
       "      <td>Burger</td>\n",
       "      <td>Super Duper</td>\n",
       "      <td>7.0</td>\n",
       "    </tr>\n",
       "    <tr>\n",
       "      <th>3</th>\n",
       "      <td>Boba</td>\n",
       "      <td>RareTea</td>\n",
       "      <td>6.5</td>\n",
       "    </tr>\n",
       "  </tbody>\n",
       "</table>\n",
       "</div>"
      ],
      "text/plain": [
       "       food   restaurant  price\n",
       "0  Pad Thai     Imm Thai   16.0\n",
       "1     Pizza  Cheeseboard   24.5\n",
       "2    Burger  Super Duper    7.0\n",
       "3      Boba      RareTea    6.5"
      ]
     },
     "execution_count": 5,
     "metadata": {},
     "output_type": "execute_result"
    }
   ],
   "source": [
    "food_info = pd.DataFrame(\n",
    "    data = {'food': ['Pad Thai', 'Pizza', 'Burger', 'Boba'],\n",
    "          'restaurant': ['Imm Thai', 'Cheeseboard', 'Super Duper', 'RareTea'],\n",
    "          'price': [16.00, 24.50, 7.00, 6.50]\n",
    "          })\n",
    "food_info"
   ]
  },
  {
   "cell_type": "markdown",
   "id": "3dcd36a6",
   "metadata": {
    "id": "3dcd36a6"
   },
   "source": [
    "### 1a. loc\n",
    "\n",
    "In this part, let's practice how to use the loc operator. For this, let's...\n",
    "- Get rows 1 and 3 and column food.\n",
    "- Get rows 1 and 2 and columns food and restaurant.\n",
    "- Get rows 0 through 2 (inclusive) and columns food through price.\n",
    "- Get rows 2 through 3 (inclusive) and columns restaurant and price.\n",
    "\n"
   ]
  },
  {
   "cell_type": "code",
   "execution_count": null,
   "id": "783df300",
   "metadata": {
    "id": "783df300"
   },
   "outputs": [],
   "source": [
    "# Solution for Part 1 here!"
   ]
  },
  {
   "cell_type": "code",
   "execution_count": null,
   "id": "cb625ad8",
   "metadata": {
    "id": "cb625ad8"
   },
   "outputs": [],
   "source": [
    "# Solution for Part 2 here!"
   ]
  },
  {
   "cell_type": "code",
   "execution_count": null,
   "id": "0f6e747e",
   "metadata": {
    "id": "0f6e747e"
   },
   "outputs": [],
   "source": [
    "# Solution for Part 3 here!"
   ]
  },
  {
   "cell_type": "code",
   "execution_count": null,
   "id": "fbf72734",
   "metadata": {
    "id": "fbf72734"
   },
   "outputs": [],
   "source": [
    "# Solution for Part 4 here!"
   ]
  },
  {
   "cell_type": "markdown",
   "id": "c41f48e8",
   "metadata": {
    "id": "c41f48e8"
   },
   "source": [
    "### 1b. iloc\n",
    "\n",
    "In this part, let's practice how to use the iloc operator. For this, let's...\n",
    "- Get rows 1 and 3 and column food.\n",
    "- Get rows 1 and 2 and columns food and restaurant.\n",
    "- Get rows 0 through 2 (exclusive) and columns food through price.\n",
    "- Get rows 0 through 3 (exclusive) and columns restaurant and price.\n",
    "\n"
   ]
  },
  {
   "cell_type": "code",
   "execution_count": null,
   "id": "cbf96435",
   "metadata": {
    "id": "cbf96435"
   },
   "outputs": [],
   "source": [
    "# Solution for Part 1 here!"
   ]
  },
  {
   "cell_type": "code",
   "execution_count": null,
   "id": "37b8c62e",
   "metadata": {
    "id": "37b8c62e"
   },
   "outputs": [],
   "source": [
    "# Solution for Part 2 here!"
   ]
  },
  {
   "cell_type": "code",
   "execution_count": null,
   "id": "59ab61c6",
   "metadata": {
    "id": "59ab61c6"
   },
   "outputs": [],
   "source": [
    "# Solution for Part 3 here!"
   ]
  },
  {
   "cell_type": "code",
   "execution_count": null,
   "id": "50df5e33",
   "metadata": {
    "id": "50df5e33"
   },
   "outputs": [],
   "source": [
    "# Solution for Part 4 here!"
   ]
  },
  {
   "cell_type": "markdown",
   "id": "def2ce4c",
   "metadata": {
    "id": "def2ce4c"
   },
   "source": [
    "### 1c. New Column!\n",
    "\n",
    "You can add new columns to a dataframe. Use the Pandas documentation to help you do this!\n",
    "Add a new column to fruit_info called 'ratings' where you can put a number from 1-5 rating how good this item of food is."
   ]
  },
  {
   "cell_type": "code",
   "execution_count": 9,
   "id": "e8d5df7d",
   "metadata": {
    "id": "e8d5df7d"
   },
   "outputs": [
    {
     "data": {
      "text/html": [
       "<div>\n",
       "<style scoped>\n",
       "    .dataframe tbody tr th:only-of-type {\n",
       "        vertical-align: middle;\n",
       "    }\n",
       "\n",
       "    .dataframe tbody tr th {\n",
       "        vertical-align: top;\n",
       "    }\n",
       "\n",
       "    .dataframe thead th {\n",
       "        text-align: right;\n",
       "    }\n",
       "</style>\n",
       "<table border=\"1\" class=\"dataframe\">\n",
       "  <thead>\n",
       "    <tr style=\"text-align: right;\">\n",
       "      <th></th>\n",
       "      <th>food</th>\n",
       "      <th>restaurant</th>\n",
       "      <th>ratings</th>\n",
       "      <th>price</th>\n",
       "      <th>ratings 2</th>\n",
       "    </tr>\n",
       "  </thead>\n",
       "  <tbody>\n",
       "    <tr>\n",
       "      <th>0</th>\n",
       "      <td>Pad Thai</td>\n",
       "      <td>Imm Thai</td>\n",
       "      <td>8</td>\n",
       "      <td>16.0</td>\n",
       "      <td>8</td>\n",
       "    </tr>\n",
       "    <tr>\n",
       "      <th>1</th>\n",
       "      <td>Pizza</td>\n",
       "      <td>Cheeseboard</td>\n",
       "      <td>9</td>\n",
       "      <td>24.5</td>\n",
       "      <td>9</td>\n",
       "    </tr>\n",
       "    <tr>\n",
       "      <th>2</th>\n",
       "      <td>Burger</td>\n",
       "      <td>Super Duper</td>\n",
       "      <td>9</td>\n",
       "      <td>7.0</td>\n",
       "      <td>9</td>\n",
       "    </tr>\n",
       "    <tr>\n",
       "      <th>3</th>\n",
       "      <td>Boba</td>\n",
       "      <td>RareTea</td>\n",
       "      <td>7</td>\n",
       "      <td>6.5</td>\n",
       "      <td>7</td>\n",
       "    </tr>\n",
       "  </tbody>\n",
       "</table>\n",
       "</div>"
      ],
      "text/plain": [
       "       food   restaurant  ratings  price  ratings 2\n",
       "0  Pad Thai     Imm Thai        8   16.0          8\n",
       "1     Pizza  Cheeseboard        9   24.5          9\n",
       "2    Burger  Super Duper        9    7.0          9\n",
       "3      Boba      RareTea        7    6.5          7"
      ]
     },
     "execution_count": 9,
     "metadata": {},
     "output_type": "execute_result"
    }
   ],
   "source": [
    "ratings = np.array([8,9,9,7])\n",
    "\n",
    "food_info['ratings 2'] = ratings\n",
    "\n",
    "#food_info.insert(2,\"ratings\", ratings)\n",
    "\n",
    "food_info\n"
   ]
  },
  {
   "cell_type": "markdown",
   "id": "65bc05a6",
   "metadata": {
    "id": "65bc05a6"
   },
   "source": [
    "### 1d. Drop it...\n",
    "\n",
    "You can also drop columns! Drop any column of your choice from food_info. Use the Pandas documentation to help you find the operation you need to do this!"
   ]
  },
  {
   "cell_type": "code",
   "execution_count": 12,
   "id": "aa2666e8",
   "metadata": {
    "id": "aa2666e8"
   },
   "outputs": [
    {
     "data": {
      "text/html": [
       "<div>\n",
       "<style scoped>\n",
       "    .dataframe tbody tr th:only-of-type {\n",
       "        vertical-align: middle;\n",
       "    }\n",
       "\n",
       "    .dataframe tbody tr th {\n",
       "        vertical-align: top;\n",
       "    }\n",
       "\n",
       "    .dataframe thead th {\n",
       "        text-align: right;\n",
       "    }\n",
       "</style>\n",
       "<table border=\"1\" class=\"dataframe\">\n",
       "  <thead>\n",
       "    <tr style=\"text-align: right;\">\n",
       "      <th></th>\n",
       "      <th>food</th>\n",
       "      <th>restaurant</th>\n",
       "      <th>ratings</th>\n",
       "      <th>ratings 2</th>\n",
       "    </tr>\n",
       "  </thead>\n",
       "  <tbody>\n",
       "    <tr>\n",
       "      <th>0</th>\n",
       "      <td>Pad Thai</td>\n",
       "      <td>Imm Thai</td>\n",
       "      <td>8</td>\n",
       "      <td>8</td>\n",
       "    </tr>\n",
       "    <tr>\n",
       "      <th>1</th>\n",
       "      <td>Pizza</td>\n",
       "      <td>Cheeseboard</td>\n",
       "      <td>9</td>\n",
       "      <td>9</td>\n",
       "    </tr>\n",
       "    <tr>\n",
       "      <th>2</th>\n",
       "      <td>Burger</td>\n",
       "      <td>Super Duper</td>\n",
       "      <td>9</td>\n",
       "      <td>9</td>\n",
       "    </tr>\n",
       "    <tr>\n",
       "      <th>3</th>\n",
       "      <td>Boba</td>\n",
       "      <td>RareTea</td>\n",
       "      <td>7</td>\n",
       "      <td>7</td>\n",
       "    </tr>\n",
       "  </tbody>\n",
       "</table>\n",
       "</div>"
      ],
      "text/plain": [
       "       food   restaurant  ratings  ratings 2\n",
       "0  Pad Thai     Imm Thai        8          8\n",
       "1     Pizza  Cheeseboard        9          9\n",
       "2    Burger  Super Duper        9          9\n",
       "3      Boba      RareTea        7          7"
      ]
     },
     "execution_count": 12,
     "metadata": {},
     "output_type": "execute_result"
    }
   ],
   "source": [
    "food_info = food_info.drop(columns = 'price')\n",
    "\n",
    "food_info\n"
   ]
  },
  {
   "cell_type": "markdown",
   "id": "a6d06c98",
   "metadata": {
    "id": "a6d06c98"
   },
   "source": [
    "### 1e. New Names\n",
    "Rename the columns of your food_info table such that they are all capitalized! Use the Pandas documentation to help you find the operation you need to do this!"
   ]
  },
  {
   "cell_type": "code",
   "execution_count": 14,
   "id": "8dd4b4c1",
   "metadata": {
    "id": "8dd4b4c1"
   },
   "outputs": [
    {
     "data": {
      "text/html": [
       "<div>\n",
       "<style scoped>\n",
       "    .dataframe tbody tr th:only-of-type {\n",
       "        vertical-align: middle;\n",
       "    }\n",
       "\n",
       "    .dataframe tbody tr th {\n",
       "        vertical-align: top;\n",
       "    }\n",
       "\n",
       "    .dataframe thead th {\n",
       "        text-align: right;\n",
       "    }\n",
       "</style>\n",
       "<table border=\"1\" class=\"dataframe\">\n",
       "  <thead>\n",
       "    <tr style=\"text-align: right;\">\n",
       "      <th></th>\n",
       "      <th>Food</th>\n",
       "      <th>Restraunts</th>\n",
       "      <th>ratings</th>\n",
       "      <th>ratings 2</th>\n",
       "    </tr>\n",
       "  </thead>\n",
       "  <tbody>\n",
       "    <tr>\n",
       "      <th>0</th>\n",
       "      <td>Pad Thai</td>\n",
       "      <td>Imm Thai</td>\n",
       "      <td>8</td>\n",
       "      <td>8</td>\n",
       "    </tr>\n",
       "    <tr>\n",
       "      <th>1</th>\n",
       "      <td>Pizza</td>\n",
       "      <td>Cheeseboard</td>\n",
       "      <td>9</td>\n",
       "      <td>9</td>\n",
       "    </tr>\n",
       "    <tr>\n",
       "      <th>2</th>\n",
       "      <td>Burger</td>\n",
       "      <td>Super Duper</td>\n",
       "      <td>9</td>\n",
       "      <td>9</td>\n",
       "    </tr>\n",
       "    <tr>\n",
       "      <th>3</th>\n",
       "      <td>Boba</td>\n",
       "      <td>RareTea</td>\n",
       "      <td>7</td>\n",
       "      <td>7</td>\n",
       "    </tr>\n",
       "  </tbody>\n",
       "</table>\n",
       "</div>"
      ],
      "text/plain": [
       "       Food   Restraunts  ratings  ratings 2\n",
       "0  Pad Thai     Imm Thai        8          8\n",
       "1     Pizza  Cheeseboard        9          9\n",
       "2    Burger  Super Duper        9          9\n",
       "3      Boba      RareTea        7          7"
      ]
     },
     "execution_count": 14,
     "metadata": {},
     "output_type": "execute_result"
    }
   ],
   "source": [
    "new_col_names = {'food': 'Food', 'restaurant': \"Restraunts\"}\n",
    "food_info.rename(columns = new_col_names)"
   ]
  },
  {
   "cell_type": "markdown",
   "id": "1863b165",
   "metadata": {
    "id": "1863b165"
   },
   "source": [
    "## Question 2: My Heart Will Go On"
   ]
  },
  {
   "cell_type": "markdown",
   "id": "7b4aa4ff",
   "metadata": {
    "id": "7b4aa4ff"
   },
   "source": [
    "In this question, we're going to get a glimpse into how data can be 'cleaned' for us to be able to understand and use it effectively- looking at the first few steps of Exploratory Data Analysis as we talked about during lecture and in our demo.\n",
    "\n",
    "Step 1 of the EDA process is collecting the data- but in our question today we're going to be working with prexisting data from the Titanic. Let's start with importing that data from a CSV file (filename: titanic_data.csv)."
   ]
  },
  {
   "cell_type": "code",
   "execution_count": 16,
   "id": "f628c002",
   "metadata": {
    "id": "f628c002"
   },
   "outputs": [],
   "source": [
    "# Loading in Data\n",
    "# This will be loading in the data from the 'titanic_data' csv file. Can you figure out why this files is called a CSV?\n",
    "\n",
    "titanic = pd.read_csv('titanic_data.csv')"
   ]
  },
  {
   "cell_type": "markdown",
   "id": "9cc85e43",
   "metadata": {
    "id": "9cc85e43"
   },
   "source": [
    "We now have our data (yay)! Our next step is to find and understand the features of the data. In this case, this means understanding what each row and column in the data represents."
   ]
  },
  {
   "cell_type": "markdown",
   "id": "519189aa",
   "metadata": {
    "id": "519189aa"
   },
   "source": [
    "### 2a. What's the Data?\n",
    "What is the shape of this dataset? In other words, how many rows and columns does it have?\n"
   ]
  },
  {
   "cell_type": "code",
   "execution_count": 17,
   "id": "b4b2aa9f",
   "metadata": {
    "id": "b4b2aa9f"
   },
   "outputs": [
    {
     "data": {
      "text/html": [
       "<div>\n",
       "<style scoped>\n",
       "    .dataframe tbody tr th:only-of-type {\n",
       "        vertical-align: middle;\n",
       "    }\n",
       "\n",
       "    .dataframe tbody tr th {\n",
       "        vertical-align: top;\n",
       "    }\n",
       "\n",
       "    .dataframe thead th {\n",
       "        text-align: right;\n",
       "    }\n",
       "</style>\n",
       "<table border=\"1\" class=\"dataframe\">\n",
       "  <thead>\n",
       "    <tr style=\"text-align: right;\">\n",
       "      <th></th>\n",
       "      <th>PassengerId</th>\n",
       "      <th>Survived</th>\n",
       "      <th>Pclass</th>\n",
       "      <th>Name</th>\n",
       "      <th>Sex</th>\n",
       "      <th>Age</th>\n",
       "      <th>SibSp</th>\n",
       "      <th>Parch</th>\n",
       "      <th>Ticket</th>\n",
       "      <th>Fare</th>\n",
       "      <th>Cabin</th>\n",
       "      <th>Embarked</th>\n",
       "    </tr>\n",
       "  </thead>\n",
       "  <tbody>\n",
       "    <tr>\n",
       "      <th>0</th>\n",
       "      <td>1</td>\n",
       "      <td>0</td>\n",
       "      <td>3</td>\n",
       "      <td>Braund, Mr. Owen Harris</td>\n",
       "      <td>male</td>\n",
       "      <td>22.0</td>\n",
       "      <td>1</td>\n",
       "      <td>0</td>\n",
       "      <td>A/5 21171</td>\n",
       "      <td>7.2500</td>\n",
       "      <td>NaN</td>\n",
       "      <td>S</td>\n",
       "    </tr>\n",
       "    <tr>\n",
       "      <th>1</th>\n",
       "      <td>2</td>\n",
       "      <td>1</td>\n",
       "      <td>1</td>\n",
       "      <td>Cumings, Mrs. John Bradley (Florence Briggs Th...</td>\n",
       "      <td>female</td>\n",
       "      <td>38.0</td>\n",
       "      <td>1</td>\n",
       "      <td>0</td>\n",
       "      <td>PC 17599</td>\n",
       "      <td>71.2833</td>\n",
       "      <td>C85</td>\n",
       "      <td>C</td>\n",
       "    </tr>\n",
       "    <tr>\n",
       "      <th>2</th>\n",
       "      <td>3</td>\n",
       "      <td>1</td>\n",
       "      <td>3</td>\n",
       "      <td>Heikkinen, Miss. Laina</td>\n",
       "      <td>female</td>\n",
       "      <td>26.0</td>\n",
       "      <td>0</td>\n",
       "      <td>0</td>\n",
       "      <td>STON/O2. 3101282</td>\n",
       "      <td>7.9250</td>\n",
       "      <td>NaN</td>\n",
       "      <td>S</td>\n",
       "    </tr>\n",
       "    <tr>\n",
       "      <th>3</th>\n",
       "      <td>4</td>\n",
       "      <td>1</td>\n",
       "      <td>1</td>\n",
       "      <td>Futrelle, Mrs. Jacques Heath (Lily May Peel)</td>\n",
       "      <td>female</td>\n",
       "      <td>35.0</td>\n",
       "      <td>1</td>\n",
       "      <td>0</td>\n",
       "      <td>113803</td>\n",
       "      <td>53.1000</td>\n",
       "      <td>C123</td>\n",
       "      <td>S</td>\n",
       "    </tr>\n",
       "    <tr>\n",
       "      <th>4</th>\n",
       "      <td>5</td>\n",
       "      <td>0</td>\n",
       "      <td>3</td>\n",
       "      <td>Allen, Mr. William Henry</td>\n",
       "      <td>male</td>\n",
       "      <td>35.0</td>\n",
       "      <td>0</td>\n",
       "      <td>0</td>\n",
       "      <td>373450</td>\n",
       "      <td>8.0500</td>\n",
       "      <td>NaN</td>\n",
       "      <td>S</td>\n",
       "    </tr>\n",
       "    <tr>\n",
       "      <th>...</th>\n",
       "      <td>...</td>\n",
       "      <td>...</td>\n",
       "      <td>...</td>\n",
       "      <td>...</td>\n",
       "      <td>...</td>\n",
       "      <td>...</td>\n",
       "      <td>...</td>\n",
       "      <td>...</td>\n",
       "      <td>...</td>\n",
       "      <td>...</td>\n",
       "      <td>...</td>\n",
       "      <td>...</td>\n",
       "    </tr>\n",
       "    <tr>\n",
       "      <th>886</th>\n",
       "      <td>887</td>\n",
       "      <td>0</td>\n",
       "      <td>2</td>\n",
       "      <td>Montvila, Rev. Juozas</td>\n",
       "      <td>male</td>\n",
       "      <td>27.0</td>\n",
       "      <td>0</td>\n",
       "      <td>0</td>\n",
       "      <td>211536</td>\n",
       "      <td>13.0000</td>\n",
       "      <td>NaN</td>\n",
       "      <td>S</td>\n",
       "    </tr>\n",
       "    <tr>\n",
       "      <th>887</th>\n",
       "      <td>888</td>\n",
       "      <td>1</td>\n",
       "      <td>1</td>\n",
       "      <td>Graham, Miss. Margaret Edith</td>\n",
       "      <td>female</td>\n",
       "      <td>19.0</td>\n",
       "      <td>0</td>\n",
       "      <td>0</td>\n",
       "      <td>112053</td>\n",
       "      <td>30.0000</td>\n",
       "      <td>B42</td>\n",
       "      <td>S</td>\n",
       "    </tr>\n",
       "    <tr>\n",
       "      <th>888</th>\n",
       "      <td>889</td>\n",
       "      <td>0</td>\n",
       "      <td>3</td>\n",
       "      <td>Johnston, Miss. Catherine Helen \"Carrie\"</td>\n",
       "      <td>female</td>\n",
       "      <td>NaN</td>\n",
       "      <td>1</td>\n",
       "      <td>2</td>\n",
       "      <td>W./C. 6607</td>\n",
       "      <td>23.4500</td>\n",
       "      <td>NaN</td>\n",
       "      <td>S</td>\n",
       "    </tr>\n",
       "    <tr>\n",
       "      <th>889</th>\n",
       "      <td>890</td>\n",
       "      <td>1</td>\n",
       "      <td>1</td>\n",
       "      <td>Behr, Mr. Karl Howell</td>\n",
       "      <td>male</td>\n",
       "      <td>26.0</td>\n",
       "      <td>0</td>\n",
       "      <td>0</td>\n",
       "      <td>111369</td>\n",
       "      <td>30.0000</td>\n",
       "      <td>C148</td>\n",
       "      <td>C</td>\n",
       "    </tr>\n",
       "    <tr>\n",
       "      <th>890</th>\n",
       "      <td>891</td>\n",
       "      <td>0</td>\n",
       "      <td>3</td>\n",
       "      <td>Dooley, Mr. Patrick</td>\n",
       "      <td>male</td>\n",
       "      <td>32.0</td>\n",
       "      <td>0</td>\n",
       "      <td>0</td>\n",
       "      <td>370376</td>\n",
       "      <td>7.7500</td>\n",
       "      <td>NaN</td>\n",
       "      <td>Q</td>\n",
       "    </tr>\n",
       "  </tbody>\n",
       "</table>\n",
       "<p>891 rows × 12 columns</p>\n",
       "</div>"
      ],
      "text/plain": [
       "     PassengerId  Survived  Pclass  \\\n",
       "0              1         0       3   \n",
       "1              2         1       1   \n",
       "2              3         1       3   \n",
       "3              4         1       1   \n",
       "4              5         0       3   \n",
       "..           ...       ...     ...   \n",
       "886          887         0       2   \n",
       "887          888         1       1   \n",
       "888          889         0       3   \n",
       "889          890         1       1   \n",
       "890          891         0       3   \n",
       "\n",
       "                                                  Name     Sex   Age  SibSp  \\\n",
       "0                              Braund, Mr. Owen Harris    male  22.0      1   \n",
       "1    Cumings, Mrs. John Bradley (Florence Briggs Th...  female  38.0      1   \n",
       "2                               Heikkinen, Miss. Laina  female  26.0      0   \n",
       "3         Futrelle, Mrs. Jacques Heath (Lily May Peel)  female  35.0      1   \n",
       "4                             Allen, Mr. William Henry    male  35.0      0   \n",
       "..                                                 ...     ...   ...    ...   \n",
       "886                              Montvila, Rev. Juozas    male  27.0      0   \n",
       "887                       Graham, Miss. Margaret Edith  female  19.0      0   \n",
       "888           Johnston, Miss. Catherine Helen \"Carrie\"  female   NaN      1   \n",
       "889                              Behr, Mr. Karl Howell    male  26.0      0   \n",
       "890                                Dooley, Mr. Patrick    male  32.0      0   \n",
       "\n",
       "     Parch            Ticket     Fare Cabin Embarked  \n",
       "0        0         A/5 21171   7.2500   NaN        S  \n",
       "1        0          PC 17599  71.2833   C85        C  \n",
       "2        0  STON/O2. 3101282   7.9250   NaN        S  \n",
       "3        0            113803  53.1000  C123        S  \n",
       "4        0            373450   8.0500   NaN        S  \n",
       "..     ...               ...      ...   ...      ...  \n",
       "886      0            211536  13.0000   NaN        S  \n",
       "887      0            112053  30.0000   B42        S  \n",
       "888      2        W./C. 6607  23.4500   NaN        S  \n",
       "889      0            111369  30.0000  C148        C  \n",
       "890      0            370376   7.7500   NaN        Q  \n",
       "\n",
       "[891 rows x 12 columns]"
      ]
     },
     "execution_count": 17,
     "metadata": {},
     "output_type": "execute_result"
    }
   ],
   "source": [
    "titanic\n"
   ]
  },
  {
   "cell_type": "markdown",
   "id": "b65430bd",
   "metadata": {
    "id": "b65430bd"
   },
   "source": [
    "Alright! Now that we've seen a little bit of the data table, and understood what exactly the data is- here's more of a breakdown of what's in this dataset:\n",
    "\n",
    "- PassengerId - Count of the total passengers\n",
    "- Survival - Survival (0 = No; 1 = Yes)\n",
    "- Class - Passenger Class (1 = 1st; 2 = 2nd; 3 = 3rd)\n",
    "- Name - Passenger's Name\n",
    "- Sex - Passenger's Gender\n",
    "- Age - Passenger's Age\n",
    "- Sibsp - Number of Siblings/Spouses Aboard\n",
    "- Parch - Number of Parents/Children Aboard\n",
    "- Ticket - Ticket Number\n",
    "- Fare - Passenger Fare\n",
    "- Cabin - Cabin\n",
    "- Embarked - Port of Embarkation (C = Cherbourg; Q = Queenstown; S = Southampton)\n",
    "- Boat - Lifeboat (if survived)\n",
    "- Body - Body number (if did not survive and body was recovered)"
   ]
  },
  {
   "cell_type": "markdown",
   "id": "273eafe6",
   "metadata": {
    "id": "273eafe6"
   },
   "source": [
    "Though we won't be able to look through all of these helpful features, we can now begin to focus on features of our interest and begin actually using our data to come to some fun conclusions!"
   ]
  },
  {
   "cell_type": "markdown",
   "id": "9e75f2eb",
   "metadata": {
    "id": "9e75f2eb"
   },
   "source": [
    "### 2b. I'm a Survivor\n",
    "\n",
    "In the dataset, there's a column that shows us how many people survived the crash into the iceberg.\n",
    "What fraction of the total number of passengers made it safely?\n",
    "\n",
    "Hint: Determine a method of first, finding how many people survived- and divide this value by the total number of passengers. You can use the value_counts() method."
   ]
  },
  {
   "cell_type": "code",
   "execution_count": 24,
   "id": "b3c847b5",
   "metadata": {
    "id": "b3c847b5"
   },
   "outputs": [
    {
     "data": {
      "text/plain": [
       "0.3838383838383838"
      ]
     },
     "execution_count": 24,
     "metadata": {},
     "output_type": "execute_result"
    }
   ],
   "source": [
    "survivors = np.sum(titanic.loc[:, \"Survived\"])\n",
    "\n",
    "total = len(titanic.loc[:, \"Survived\"])\n",
    "\n",
    "survival_rate = survivors/total\n",
    "\n",
    "survival_rate\n"
   ]
  },
  {
   "cell_type": "markdown",
   "id": "fb7281e4",
   "metadata": {
    "id": "fb7281e4"
   },
   "source": [
    "### 2c. Guest List\n",
    "Another important process of analyzing data is being able to organize it in an effective method for your analysis.\n",
    "Let's say that you want to look at the names of the passengers in alphabetical order- organize the data table by alphabetical order of passenger names.\n",
    "\n",
    "Print out this new datatable with the passengers ordered alphabetically by their name- but starting with the Z names first.\n",
    "\n",
    "Hint: You can use the sort_values() function on pandas. Look at what the different input parameters do!"
   ]
  },
  {
   "cell_type": "code",
   "execution_count": 26,
   "id": "04aa65df",
   "metadata": {
    "id": "04aa65df"
   },
   "outputs": [
    {
     "data": {
      "text/html": [
       "<div>\n",
       "<style scoped>\n",
       "    .dataframe tbody tr th:only-of-type {\n",
       "        vertical-align: middle;\n",
       "    }\n",
       "\n",
       "    .dataframe tbody tr th {\n",
       "        vertical-align: top;\n",
       "    }\n",
       "\n",
       "    .dataframe thead th {\n",
       "        text-align: right;\n",
       "    }\n",
       "</style>\n",
       "<table border=\"1\" class=\"dataframe\">\n",
       "  <thead>\n",
       "    <tr style=\"text-align: right;\">\n",
       "      <th></th>\n",
       "      <th>PassengerId</th>\n",
       "      <th>Survived</th>\n",
       "      <th>Pclass</th>\n",
       "      <th>Name</th>\n",
       "      <th>Sex</th>\n",
       "      <th>Age</th>\n",
       "      <th>SibSp</th>\n",
       "      <th>Parch</th>\n",
       "      <th>Ticket</th>\n",
       "      <th>Fare</th>\n",
       "      <th>Cabin</th>\n",
       "      <th>Embarked</th>\n",
       "    </tr>\n",
       "  </thead>\n",
       "  <tbody>\n",
       "    <tr>\n",
       "      <th>868</th>\n",
       "      <td>869</td>\n",
       "      <td>0</td>\n",
       "      <td>3</td>\n",
       "      <td>van Melkebeke, Mr. Philemon</td>\n",
       "      <td>male</td>\n",
       "      <td>NaN</td>\n",
       "      <td>0</td>\n",
       "      <td>0</td>\n",
       "      <td>345777</td>\n",
       "      <td>9.5000</td>\n",
       "      <td>NaN</td>\n",
       "      <td>S</td>\n",
       "    </tr>\n",
       "    <tr>\n",
       "      <th>153</th>\n",
       "      <td>154</td>\n",
       "      <td>0</td>\n",
       "      <td>3</td>\n",
       "      <td>van Billiard, Mr. Austin Blyler</td>\n",
       "      <td>male</td>\n",
       "      <td>40.5</td>\n",
       "      <td>0</td>\n",
       "      <td>2</td>\n",
       "      <td>A/5. 851</td>\n",
       "      <td>14.5000</td>\n",
       "      <td>NaN</td>\n",
       "      <td>S</td>\n",
       "    </tr>\n",
       "    <tr>\n",
       "      <th>361</th>\n",
       "      <td>362</td>\n",
       "      <td>0</td>\n",
       "      <td>2</td>\n",
       "      <td>del Carlo, Mr. Sebastiano</td>\n",
       "      <td>male</td>\n",
       "      <td>29.0</td>\n",
       "      <td>1</td>\n",
       "      <td>0</td>\n",
       "      <td>SC/PARIS 2167</td>\n",
       "      <td>27.7208</td>\n",
       "      <td>NaN</td>\n",
       "      <td>C</td>\n",
       "    </tr>\n",
       "    <tr>\n",
       "      <th>282</th>\n",
       "      <td>283</td>\n",
       "      <td>0</td>\n",
       "      <td>3</td>\n",
       "      <td>de Pelsmaeker, Mr. Alfons</td>\n",
       "      <td>male</td>\n",
       "      <td>16.0</td>\n",
       "      <td>0</td>\n",
       "      <td>0</td>\n",
       "      <td>345778</td>\n",
       "      <td>9.5000</td>\n",
       "      <td>NaN</td>\n",
       "      <td>S</td>\n",
       "    </tr>\n",
       "    <tr>\n",
       "      <th>286</th>\n",
       "      <td>287</td>\n",
       "      <td>1</td>\n",
       "      <td>3</td>\n",
       "      <td>de Mulder, Mr. Theodore</td>\n",
       "      <td>male</td>\n",
       "      <td>30.0</td>\n",
       "      <td>0</td>\n",
       "      <td>0</td>\n",
       "      <td>345774</td>\n",
       "      <td>9.5000</td>\n",
       "      <td>NaN</td>\n",
       "      <td>S</td>\n",
       "    </tr>\n",
       "    <tr>\n",
       "      <th>...</th>\n",
       "      <td>...</td>\n",
       "      <td>...</td>\n",
       "      <td>...</td>\n",
       "      <td>...</td>\n",
       "      <td>...</td>\n",
       "      <td>...</td>\n",
       "      <td>...</td>\n",
       "      <td>...</td>\n",
       "      <td>...</td>\n",
       "      <td>...</td>\n",
       "      <td>...</td>\n",
       "      <td>...</td>\n",
       "    </tr>\n",
       "    <tr>\n",
       "      <th>874</th>\n",
       "      <td>875</td>\n",
       "      <td>1</td>\n",
       "      <td>2</td>\n",
       "      <td>Abelson, Mrs. Samuel (Hannah Wizosky)</td>\n",
       "      <td>female</td>\n",
       "      <td>28.0</td>\n",
       "      <td>1</td>\n",
       "      <td>0</td>\n",
       "      <td>P/PP 3381</td>\n",
       "      <td>24.0000</td>\n",
       "      <td>NaN</td>\n",
       "      <td>C</td>\n",
       "    </tr>\n",
       "    <tr>\n",
       "      <th>308</th>\n",
       "      <td>309</td>\n",
       "      <td>0</td>\n",
       "      <td>2</td>\n",
       "      <td>Abelson, Mr. Samuel</td>\n",
       "      <td>male</td>\n",
       "      <td>30.0</td>\n",
       "      <td>1</td>\n",
       "      <td>0</td>\n",
       "      <td>P/PP 3381</td>\n",
       "      <td>24.0000</td>\n",
       "      <td>NaN</td>\n",
       "      <td>C</td>\n",
       "    </tr>\n",
       "    <tr>\n",
       "      <th>279</th>\n",
       "      <td>280</td>\n",
       "      <td>1</td>\n",
       "      <td>3</td>\n",
       "      <td>Abbott, Mrs. Stanton (Rosa Hunt)</td>\n",
       "      <td>female</td>\n",
       "      <td>35.0</td>\n",
       "      <td>1</td>\n",
       "      <td>1</td>\n",
       "      <td>C.A. 2673</td>\n",
       "      <td>20.2500</td>\n",
       "      <td>NaN</td>\n",
       "      <td>S</td>\n",
       "    </tr>\n",
       "    <tr>\n",
       "      <th>746</th>\n",
       "      <td>747</td>\n",
       "      <td>0</td>\n",
       "      <td>3</td>\n",
       "      <td>Abbott, Mr. Rossmore Edward</td>\n",
       "      <td>male</td>\n",
       "      <td>16.0</td>\n",
       "      <td>1</td>\n",
       "      <td>1</td>\n",
       "      <td>C.A. 2673</td>\n",
       "      <td>20.2500</td>\n",
       "      <td>NaN</td>\n",
       "      <td>S</td>\n",
       "    </tr>\n",
       "    <tr>\n",
       "      <th>845</th>\n",
       "      <td>846</td>\n",
       "      <td>0</td>\n",
       "      <td>3</td>\n",
       "      <td>Abbing, Mr. Anthony</td>\n",
       "      <td>male</td>\n",
       "      <td>42.0</td>\n",
       "      <td>0</td>\n",
       "      <td>0</td>\n",
       "      <td>C.A. 5547</td>\n",
       "      <td>7.5500</td>\n",
       "      <td>NaN</td>\n",
       "      <td>S</td>\n",
       "    </tr>\n",
       "  </tbody>\n",
       "</table>\n",
       "<p>891 rows × 12 columns</p>\n",
       "</div>"
      ],
      "text/plain": [
       "     PassengerId  Survived  Pclass                                   Name  \\\n",
       "868          869         0       3            van Melkebeke, Mr. Philemon   \n",
       "153          154         0       3        van Billiard, Mr. Austin Blyler   \n",
       "361          362         0       2              del Carlo, Mr. Sebastiano   \n",
       "282          283         0       3              de Pelsmaeker, Mr. Alfons   \n",
       "286          287         1       3                de Mulder, Mr. Theodore   \n",
       "..           ...       ...     ...                                    ...   \n",
       "874          875         1       2  Abelson, Mrs. Samuel (Hannah Wizosky)   \n",
       "308          309         0       2                    Abelson, Mr. Samuel   \n",
       "279          280         1       3       Abbott, Mrs. Stanton (Rosa Hunt)   \n",
       "746          747         0       3            Abbott, Mr. Rossmore Edward   \n",
       "845          846         0       3                    Abbing, Mr. Anthony   \n",
       "\n",
       "        Sex   Age  SibSp  Parch         Ticket     Fare Cabin Embarked  \n",
       "868    male   NaN      0      0         345777   9.5000   NaN        S  \n",
       "153    male  40.5      0      2       A/5. 851  14.5000   NaN        S  \n",
       "361    male  29.0      1      0  SC/PARIS 2167  27.7208   NaN        C  \n",
       "282    male  16.0      0      0         345778   9.5000   NaN        S  \n",
       "286    male  30.0      0      0         345774   9.5000   NaN        S  \n",
       "..      ...   ...    ...    ...            ...      ...   ...      ...  \n",
       "874  female  28.0      1      0      P/PP 3381  24.0000   NaN        C  \n",
       "308    male  30.0      1      0      P/PP 3381  24.0000   NaN        C  \n",
       "279  female  35.0      1      1      C.A. 2673  20.2500   NaN        S  \n",
       "746    male  16.0      1      1      C.A. 2673  20.2500   NaN        S  \n",
       "845    male  42.0      0      0      C.A. 5547   7.5500   NaN        S  \n",
       "\n",
       "[891 rows x 12 columns]"
      ]
     },
     "execution_count": 26,
     "metadata": {},
     "output_type": "execute_result"
    }
   ],
   "source": [
    "titanic = titanic.sort_values(['Name'] , ascending = False)\n",
    "titanic"
   ]
  },
  {
   "cell_type": "markdown",
   "id": "11c9c432",
   "metadata": {
    "id": "11c9c432"
   },
   "source": [
    "### 2d. Numbers, Numbers, Numbers\n",
    "Statistics are important for working with data. A lot of the time, we want to understand overall trends in data, and statistical measures are very helpful for this. Here are some things we can investigate:\n",
    "- What was the mean age of all of the passengers? What about the standard deviation?\n",
    "- What was the instance of the maximum number of Parents/Children aboard? What about the maximum number of Siblings/Spouses?"
   ]
  },
  {
   "cell_type": "code",
   "execution_count": null,
   "id": "616eeaee",
   "metadata": {
    "id": "616eeaee"
   },
   "outputs": [],
   "source": [
    "# Mean Age of Passengers\n",
    "\n"
   ]
  },
  {
   "cell_type": "code",
   "execution_count": 27,
   "id": "98c0f14d",
   "metadata": {
    "id": "98c0f14d"
   },
   "outputs": [
    {
     "data": {
      "text/plain": [
       "14.51632115081731"
      ]
     },
     "execution_count": 27,
     "metadata": {},
     "output_type": "execute_result"
    }
   ],
   "source": [
    "# Standard Dev of Passenger Age\n",
    "\n",
    "std_dev_age = np.std(titanic[\"Age\"])\n",
    "std_dev_age"
   ]
  },
  {
   "cell_type": "code",
   "execution_count": null,
   "id": "789c88b6",
   "metadata": {
    "id": "789c88b6"
   },
   "outputs": [],
   "source": [
    "# Maximum Number Parents/Children Aboard"
   ]
  },
  {
   "cell_type": "code",
   "execution_count": 29,
   "id": "42a649b2",
   "metadata": {
    "id": "42a649b2"
   },
   "outputs": [
    {
     "data": {
      "text/plain": [
       "8"
      ]
     },
     "execution_count": 29,
     "metadata": {},
     "output_type": "execute_result"
    }
   ],
   "source": [
    "# Maximum Number of Siblings/Spouses Aboard\n",
    "max_num = np.max(titanic[\"SibSp\"])\n",
    "\n",
    "max_num"
   ]
  },
  {
   "cell_type": "markdown",
   "id": "0f1f6239",
   "metadata": {
    "id": "0f1f6239"
   },
   "source": [
    "### 2e. Ooh that's Pricey...\n",
    "Some people had to pay a higher fare than others in order to secure their spot on this ship. Print out the 10 people who spent the most money on their fare for the Titanic.\n",
    "\n",
    "Hint 1: You may find sort_values() helpful.\n",
    "\n",
    "Hint 2: You'll need to somehow get the names only, NOT the counts associated with each. If you're not sure how to do this, try looking through the class notes or using a search engine. We know this is annoying but we're trying to help you build independence.\n",
    "\n",
    "Hint 3: To check your answer, this should return a list of 10 names- it should not be a number."
   ]
  },
  {
   "cell_type": "code",
   "execution_count": 33,
   "id": "ce7f55bd",
   "metadata": {
    "id": "ce7f55bd"
   },
   "outputs": [
    {
     "data": {
      "text/plain": [
       "array(['Ward, Miss. Anna', 'Lesurer, Mr. Gustave J',\n",
       "       'Cardeza, Mr. Thomas Drake Martinez', 'Fortune, Mr. Mark',\n",
       "       'Fortune, Mr. Charles Alexander', 'Fortune, Miss. Mabel Helen',\n",
       "       'Fortune, Miss. Alice Elizabeth', 'Ryerson, Miss. Emily Borie',\n",
       "       'Ryerson, Miss. Susan Parker \"Suzette\"',\n",
       "       'Baxter, Mr. Quigg Edmond'], dtype=object)"
      ]
     },
     "execution_count": 33,
     "metadata": {},
     "output_type": "execute_result"
    }
   ],
   "source": [
    "# Your code here!\n",
    "\n",
    "most_fares = titanic.sort_values('Fare' , ascending = False).head(10)\n",
    "\n",
    "most_fare_payers = most_fares.loc[:, \"Name\"]\n",
    "\n",
    "np.array(most_fare_payers)"
   ]
  },
  {
   "cell_type": "markdown",
   "id": "ce092a3e",
   "metadata": {
    "id": "ce092a3e"
   },
   "source": [
    "### 2f. not the NaNs...\n",
    "If you look at certain data entries, you may notice an interesting feature- NaN. This stands for Not a Number- and it basically shows us 'missing' or incorrectly represented data. In this case, the \"Cabin\" column has a lot of NaN values, which means they likely have a significance. We often will want to drop or appropriately replace the NaN values in a dataset- but in this question, let's just look at all of the entries that have a NaN in the \"Cabin\" column.\n",
    "\n",
    "Print out a datatable from the original dataframe that only contains the rows with NaN in the \"Cabin\" column."
   ]
  },
  {
   "cell_type": "code",
   "execution_count": 35,
   "id": "3a360dd9",
   "metadata": {
    "id": "3a360dd9"
   },
   "outputs": [
    {
     "data": {
      "text/html": [
       "<div>\n",
       "<style scoped>\n",
       "    .dataframe tbody tr th:only-of-type {\n",
       "        vertical-align: middle;\n",
       "    }\n",
       "\n",
       "    .dataframe tbody tr th {\n",
       "        vertical-align: top;\n",
       "    }\n",
       "\n",
       "    .dataframe thead th {\n",
       "        text-align: right;\n",
       "    }\n",
       "</style>\n",
       "<table border=\"1\" class=\"dataframe\">\n",
       "  <thead>\n",
       "    <tr style=\"text-align: right;\">\n",
       "      <th></th>\n",
       "      <th>PassengerId</th>\n",
       "      <th>Survived</th>\n",
       "      <th>Pclass</th>\n",
       "      <th>Name</th>\n",
       "      <th>Sex</th>\n",
       "      <th>Age</th>\n",
       "      <th>SibSp</th>\n",
       "      <th>Parch</th>\n",
       "      <th>Ticket</th>\n",
       "      <th>Fare</th>\n",
       "      <th>Cabin</th>\n",
       "      <th>Embarked</th>\n",
       "    </tr>\n",
       "  </thead>\n",
       "  <tbody>\n",
       "    <tr>\n",
       "      <th>868</th>\n",
       "      <td>869</td>\n",
       "      <td>0</td>\n",
       "      <td>3</td>\n",
       "      <td>van Melkebeke, Mr. Philemon</td>\n",
       "      <td>male</td>\n",
       "      <td>NaN</td>\n",
       "      <td>0</td>\n",
       "      <td>0</td>\n",
       "      <td>345777</td>\n",
       "      <td>9.5000</td>\n",
       "      <td>NaN</td>\n",
       "      <td>S</td>\n",
       "    </tr>\n",
       "    <tr>\n",
       "      <th>153</th>\n",
       "      <td>154</td>\n",
       "      <td>0</td>\n",
       "      <td>3</td>\n",
       "      <td>van Billiard, Mr. Austin Blyler</td>\n",
       "      <td>male</td>\n",
       "      <td>40.5</td>\n",
       "      <td>0</td>\n",
       "      <td>2</td>\n",
       "      <td>A/5. 851</td>\n",
       "      <td>14.5000</td>\n",
       "      <td>NaN</td>\n",
       "      <td>S</td>\n",
       "    </tr>\n",
       "    <tr>\n",
       "      <th>361</th>\n",
       "      <td>362</td>\n",
       "      <td>0</td>\n",
       "      <td>2</td>\n",
       "      <td>del Carlo, Mr. Sebastiano</td>\n",
       "      <td>male</td>\n",
       "      <td>29.0</td>\n",
       "      <td>1</td>\n",
       "      <td>0</td>\n",
       "      <td>SC/PARIS 2167</td>\n",
       "      <td>27.7208</td>\n",
       "      <td>NaN</td>\n",
       "      <td>C</td>\n",
       "    </tr>\n",
       "    <tr>\n",
       "      <th>282</th>\n",
       "      <td>283</td>\n",
       "      <td>0</td>\n",
       "      <td>3</td>\n",
       "      <td>de Pelsmaeker, Mr. Alfons</td>\n",
       "      <td>male</td>\n",
       "      <td>16.0</td>\n",
       "      <td>0</td>\n",
       "      <td>0</td>\n",
       "      <td>345778</td>\n",
       "      <td>9.5000</td>\n",
       "      <td>NaN</td>\n",
       "      <td>S</td>\n",
       "    </tr>\n",
       "    <tr>\n",
       "      <th>286</th>\n",
       "      <td>287</td>\n",
       "      <td>1</td>\n",
       "      <td>3</td>\n",
       "      <td>de Mulder, Mr. Theodore</td>\n",
       "      <td>male</td>\n",
       "      <td>30.0</td>\n",
       "      <td>0</td>\n",
       "      <td>0</td>\n",
       "      <td>345774</td>\n",
       "      <td>9.5000</td>\n",
       "      <td>NaN</td>\n",
       "      <td>S</td>\n",
       "    </tr>\n",
       "    <tr>\n",
       "      <th>...</th>\n",
       "      <td>...</td>\n",
       "      <td>...</td>\n",
       "      <td>...</td>\n",
       "      <td>...</td>\n",
       "      <td>...</td>\n",
       "      <td>...</td>\n",
       "      <td>...</td>\n",
       "      <td>...</td>\n",
       "      <td>...</td>\n",
       "      <td>...</td>\n",
       "      <td>...</td>\n",
       "      <td>...</td>\n",
       "    </tr>\n",
       "    <tr>\n",
       "      <th>874</th>\n",
       "      <td>875</td>\n",
       "      <td>1</td>\n",
       "      <td>2</td>\n",
       "      <td>Abelson, Mrs. Samuel (Hannah Wizosky)</td>\n",
       "      <td>female</td>\n",
       "      <td>28.0</td>\n",
       "      <td>1</td>\n",
       "      <td>0</td>\n",
       "      <td>P/PP 3381</td>\n",
       "      <td>24.0000</td>\n",
       "      <td>NaN</td>\n",
       "      <td>C</td>\n",
       "    </tr>\n",
       "    <tr>\n",
       "      <th>308</th>\n",
       "      <td>309</td>\n",
       "      <td>0</td>\n",
       "      <td>2</td>\n",
       "      <td>Abelson, Mr. Samuel</td>\n",
       "      <td>male</td>\n",
       "      <td>30.0</td>\n",
       "      <td>1</td>\n",
       "      <td>0</td>\n",
       "      <td>P/PP 3381</td>\n",
       "      <td>24.0000</td>\n",
       "      <td>NaN</td>\n",
       "      <td>C</td>\n",
       "    </tr>\n",
       "    <tr>\n",
       "      <th>279</th>\n",
       "      <td>280</td>\n",
       "      <td>1</td>\n",
       "      <td>3</td>\n",
       "      <td>Abbott, Mrs. Stanton (Rosa Hunt)</td>\n",
       "      <td>female</td>\n",
       "      <td>35.0</td>\n",
       "      <td>1</td>\n",
       "      <td>1</td>\n",
       "      <td>C.A. 2673</td>\n",
       "      <td>20.2500</td>\n",
       "      <td>NaN</td>\n",
       "      <td>S</td>\n",
       "    </tr>\n",
       "    <tr>\n",
       "      <th>746</th>\n",
       "      <td>747</td>\n",
       "      <td>0</td>\n",
       "      <td>3</td>\n",
       "      <td>Abbott, Mr. Rossmore Edward</td>\n",
       "      <td>male</td>\n",
       "      <td>16.0</td>\n",
       "      <td>1</td>\n",
       "      <td>1</td>\n",
       "      <td>C.A. 2673</td>\n",
       "      <td>20.2500</td>\n",
       "      <td>NaN</td>\n",
       "      <td>S</td>\n",
       "    </tr>\n",
       "    <tr>\n",
       "      <th>845</th>\n",
       "      <td>846</td>\n",
       "      <td>0</td>\n",
       "      <td>3</td>\n",
       "      <td>Abbing, Mr. Anthony</td>\n",
       "      <td>male</td>\n",
       "      <td>42.0</td>\n",
       "      <td>0</td>\n",
       "      <td>0</td>\n",
       "      <td>C.A. 5547</td>\n",
       "      <td>7.5500</td>\n",
       "      <td>NaN</td>\n",
       "      <td>S</td>\n",
       "    </tr>\n",
       "  </tbody>\n",
       "</table>\n",
       "<p>687 rows × 12 columns</p>\n",
       "</div>"
      ],
      "text/plain": [
       "     PassengerId  Survived  Pclass                                   Name  \\\n",
       "868          869         0       3            van Melkebeke, Mr. Philemon   \n",
       "153          154         0       3        van Billiard, Mr. Austin Blyler   \n",
       "361          362         0       2              del Carlo, Mr. Sebastiano   \n",
       "282          283         0       3              de Pelsmaeker, Mr. Alfons   \n",
       "286          287         1       3                de Mulder, Mr. Theodore   \n",
       "..           ...       ...     ...                                    ...   \n",
       "874          875         1       2  Abelson, Mrs. Samuel (Hannah Wizosky)   \n",
       "308          309         0       2                    Abelson, Mr. Samuel   \n",
       "279          280         1       3       Abbott, Mrs. Stanton (Rosa Hunt)   \n",
       "746          747         0       3            Abbott, Mr. Rossmore Edward   \n",
       "845          846         0       3                    Abbing, Mr. Anthony   \n",
       "\n",
       "        Sex   Age  SibSp  Parch         Ticket     Fare Cabin Embarked  \n",
       "868    male   NaN      0      0         345777   9.5000   NaN        S  \n",
       "153    male  40.5      0      2       A/5. 851  14.5000   NaN        S  \n",
       "361    male  29.0      1      0  SC/PARIS 2167  27.7208   NaN        C  \n",
       "282    male  16.0      0      0         345778   9.5000   NaN        S  \n",
       "286    male  30.0      0      0         345774   9.5000   NaN        S  \n",
       "..      ...   ...    ...    ...            ...      ...   ...      ...  \n",
       "874  female  28.0      1      0      P/PP 3381  24.0000   NaN        C  \n",
       "308    male  30.0      1      0      P/PP 3381  24.0000   NaN        C  \n",
       "279  female  35.0      1      1      C.A. 2673  20.2500   NaN        S  \n",
       "746    male  16.0      1      1      C.A. 2673  20.2500   NaN        S  \n",
       "845    male  42.0      0      0      C.A. 5547   7.5500   NaN        S  \n",
       "\n",
       "[687 rows x 12 columns]"
      ]
     },
     "execution_count": 35,
     "metadata": {},
     "output_type": "execute_result"
    }
   ],
   "source": [
    "#Your code here!\n",
    "\n",
    "\n",
    "nan_val_dropped = titanic.loc[titanic[\"Cabin\"].isnull()]\n",
    "nan_val_dropped"
   ]
  },
  {
   "cell_type": "markdown",
   "id": "63789848",
   "metadata": {
    "id": "63789848"
   },
   "source": [
    "### 2g. Group Up!\n",
    "\n",
    "A lot of times, when we look at our data we want to look at it in different 'groups' to understand how features are related. For this question, let's take a look at how the other features relate to where the passengers embarked on the journey (C = Cherbourg; Q = Queenstown; S = Southampton).\n",
    "\n",
    "Group by the embarkation and print out your result.\n",
    "\n",
    "Hint: You will have to use an aggregation function (e.g, count, mean, median, sum, max...) to find the totals.\n",
    "\n",
    "When this is done, you'll see that some columns no longer contain useful information- such as PassengerId and Age- but others provide us with valuabe insights such as the Surivived, and Fare columns which tell us the total fare collected at each port, and how many people survived according to where they boarded the ship."
   ]
  },
  {
   "cell_type": "code",
   "execution_count": 37,
   "id": "4a4e547c",
   "metadata": {
    "id": "4a4e547c"
   },
   "outputs": [
    {
     "name": "stderr",
     "output_type": "stream",
     "text": [
      "/var/folders/jb/wr7ktnqd4b987flkq58lncjc0000gn/T/ipykernel_14023/1583656889.py:3: FutureWarning: The default value of numeric_only in DataFrameGroupBy.sum is deprecated. In a future version, numeric_only will default to False. Either specify numeric_only or select only columns which should be valid for the function.\n",
      "  embarked = titanic.groupby(['Embarked']).sum()\n"
     ]
    },
    {
     "data": {
      "text/html": [
       "<div>\n",
       "<style scoped>\n",
       "    .dataframe tbody tr th:only-of-type {\n",
       "        vertical-align: middle;\n",
       "    }\n",
       "\n",
       "    .dataframe tbody tr th {\n",
       "        vertical-align: top;\n",
       "    }\n",
       "\n",
       "    .dataframe thead th {\n",
       "        text-align: right;\n",
       "    }\n",
       "</style>\n",
       "<table border=\"1\" class=\"dataframe\">\n",
       "  <thead>\n",
       "    <tr style=\"text-align: right;\">\n",
       "      <th></th>\n",
       "      <th>PassengerId</th>\n",
       "      <th>Survived</th>\n",
       "      <th>Pclass</th>\n",
       "      <th>Age</th>\n",
       "      <th>SibSp</th>\n",
       "      <th>Parch</th>\n",
       "      <th>Fare</th>\n",
       "    </tr>\n",
       "    <tr>\n",
       "      <th>Embarked</th>\n",
       "      <th></th>\n",
       "      <th></th>\n",
       "      <th></th>\n",
       "      <th></th>\n",
       "      <th></th>\n",
       "      <th></th>\n",
       "      <th></th>\n",
       "    </tr>\n",
       "  </thead>\n",
       "  <tbody>\n",
       "    <tr>\n",
       "      <th>C</th>\n",
       "      <td>74820</td>\n",
       "      <td>93</td>\n",
       "      <td>317</td>\n",
       "      <td>4005.92</td>\n",
       "      <td>65</td>\n",
       "      <td>61</td>\n",
       "      <td>10072.2962</td>\n",
       "    </tr>\n",
       "    <tr>\n",
       "      <th>Q</th>\n",
       "      <td>32178</td>\n",
       "      <td>30</td>\n",
       "      <td>224</td>\n",
       "      <td>786.50</td>\n",
       "      <td>33</td>\n",
       "      <td>13</td>\n",
       "      <td>1022.2543</td>\n",
       "    </tr>\n",
       "    <tr>\n",
       "      <th>S</th>\n",
       "      <td>289496</td>\n",
       "      <td>217</td>\n",
       "      <td>1514</td>\n",
       "      <td>16312.75</td>\n",
       "      <td>368</td>\n",
       "      <td>266</td>\n",
       "      <td>17439.3988</td>\n",
       "    </tr>\n",
       "  </tbody>\n",
       "</table>\n",
       "</div>"
      ],
      "text/plain": [
       "          PassengerId  Survived  Pclass       Age  SibSp  Parch        Fare\n",
       "Embarked                                                                   \n",
       "C               74820        93     317   4005.92     65     61  10072.2962\n",
       "Q               32178        30     224    786.50     33     13   1022.2543\n",
       "S              289496       217    1514  16312.75    368    266  17439.3988"
      ]
     },
     "execution_count": 37,
     "metadata": {},
     "output_type": "execute_result"
    }
   ],
   "source": [
    "#Your code here!\n",
    "\n",
    "embarked = titanic.groupby(['Embarked']).sum()\n",
    "\n",
    "embarked"
   ]
  },
  {
   "cell_type": "code",
   "execution_count": null,
   "id": "201e1c0a",
   "metadata": {},
   "outputs": [],
   "source": []
  }
 ],
 "metadata": {
  "colab": {
   "provenance": []
  },
  "kernelspec": {
   "display_name": "Python 3 (ipykernel)",
   "language": "python",
   "name": "python3"
  },
  "language_info": {
   "codemirror_mode": {
    "name": "ipython",
    "version": 3
   },
   "file_extension": ".py",
   "mimetype": "text/x-python",
   "name": "python",
   "nbconvert_exporter": "python",
   "pygments_lexer": "ipython3",
   "version": "3.11.4"
  }
 },
 "nbformat": 4,
 "nbformat_minor": 5
}
